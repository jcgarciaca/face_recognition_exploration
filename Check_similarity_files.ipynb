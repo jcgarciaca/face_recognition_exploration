{
 "cells": [
  {
   "cell_type": "code",
   "execution_count": 1,
   "metadata": {
    "id": "fxdzbDzx_7Xo"
   },
   "outputs": [],
   "source": [
    "import pandas as pd\n",
    "import numpy as np\n",
    "import os\n",
    "import time\n",
    "from IPython.display import clear_output"
   ]
  },
  {
   "cell_type": "code",
   "execution_count": 2,
   "metadata": {
    "colab": {
     "base_uri": "https://localhost:8080/"
    },
    "id": "7FXbnniu_mnK",
    "outputId": "a1cd10bc-7181-4f85-a960-ef1e7d38cef2"
   },
   "outputs": [],
   "source": [
    "root = '/home/MIBS/facenet'\n",
    "target_folder = os.path.join(root, 'embedding', 'similarity')"
   ]
  },
  {
   "cell_type": "markdown",
   "metadata": {
    "id": "4EFmgCNrJXNp"
   },
   "source": [
    "## Read data"
   ]
  },
  {
   "cell_type": "code",
   "execution_count": 3,
   "metadata": {
    "colab": {
     "base_uri": "https://localhost:8080/",
     "height": 204
    },
    "id": "exOpc82gKYgu",
    "outputId": "4a2725b1-0657-40d2-e2eb-11120a759783"
   },
   "outputs": [
    {
     "data": {
      "text/html": [
       "<div>\n",
       "<style scoped>\n",
       "    .dataframe tbody tr th:only-of-type {\n",
       "        vertical-align: middle;\n",
       "    }\n",
       "\n",
       "    .dataframe tbody tr th {\n",
       "        vertical-align: top;\n",
       "    }\n",
       "\n",
       "    .dataframe thead th {\n",
       "        text-align: right;\n",
       "    }\n",
       "</style>\n",
       "<table border=\"1\" class=\"dataframe\">\n",
       "  <thead>\n",
       "    <tr style=\"text-align: right;\">\n",
       "      <th></th>\n",
       "      <th>1000046113_190136.jpg</th>\n",
       "      <th>1000046113_190137.jpg</th>\n",
       "      <th>1000046113_190138.jpg</th>\n",
       "      <th>1000046113_190139.jpg</th>\n",
       "      <th>1000046113_190140.jpg</th>\n",
       "    </tr>\n",
       "  </thead>\n",
       "  <tbody>\n",
       "    <tr>\n",
       "      <th>1000046113_190136.jpg</th>\n",
       "      <td>0.000000</td>\n",
       "      <td>0.043208</td>\n",
       "      <td>0.059137</td>\n",
       "      <td>0.077802</td>\n",
       "      <td>0.084179</td>\n",
       "    </tr>\n",
       "    <tr>\n",
       "      <th>1000046113_190137.jpg</th>\n",
       "      <td>0.043208</td>\n",
       "      <td>0.000000</td>\n",
       "      <td>0.015239</td>\n",
       "      <td>0.032346</td>\n",
       "      <td>0.046843</td>\n",
       "    </tr>\n",
       "    <tr>\n",
       "      <th>1000046113_190138.jpg</th>\n",
       "      <td>0.059137</td>\n",
       "      <td>0.015239</td>\n",
       "      <td>0.000000</td>\n",
       "      <td>0.011081</td>\n",
       "      <td>0.033390</td>\n",
       "    </tr>\n",
       "    <tr>\n",
       "      <th>1000046113_190139.jpg</th>\n",
       "      <td>0.077802</td>\n",
       "      <td>0.032346</td>\n",
       "      <td>0.011081</td>\n",
       "      <td>-0.000000</td>\n",
       "      <td>0.017354</td>\n",
       "    </tr>\n",
       "    <tr>\n",
       "      <th>1000046113_190140.jpg</th>\n",
       "      <td>0.084179</td>\n",
       "      <td>0.046843</td>\n",
       "      <td>0.033390</td>\n",
       "      <td>0.017354</td>\n",
       "      <td>-0.000000</td>\n",
       "    </tr>\n",
       "  </tbody>\n",
       "</table>\n",
       "</div>"
      ],
      "text/plain": [
       "                       1000046113_190136.jpg  1000046113_190137.jpg  \\\n",
       "1000046113_190136.jpg               0.000000               0.043208   \n",
       "1000046113_190137.jpg               0.043208               0.000000   \n",
       "1000046113_190138.jpg               0.059137               0.015239   \n",
       "1000046113_190139.jpg               0.077802               0.032346   \n",
       "1000046113_190140.jpg               0.084179               0.046843   \n",
       "\n",
       "                       1000046113_190138.jpg  1000046113_190139.jpg  \\\n",
       "1000046113_190136.jpg               0.059137               0.077802   \n",
       "1000046113_190137.jpg               0.015239               0.032346   \n",
       "1000046113_190138.jpg               0.000000               0.011081   \n",
       "1000046113_190139.jpg               0.011081              -0.000000   \n",
       "1000046113_190140.jpg               0.033390               0.017354   \n",
       "\n",
       "                       1000046113_190140.jpg  \n",
       "1000046113_190136.jpg               0.084179  \n",
       "1000046113_190137.jpg               0.046843  \n",
       "1000046113_190138.jpg               0.033390  \n",
       "1000046113_190139.jpg               0.017354  \n",
       "1000046113_190140.jpg              -0.000000  "
      ]
     },
     "execution_count": 3,
     "metadata": {},
     "output_type": "execute_result"
    }
   ],
   "source": [
    "df_sim = pd.read_csv(os.path.join(target_folder, 'similarity_0.csv'), index_col=0)\n",
    "df_sim.head()"
   ]
  },
  {
   "cell_type": "code",
   "execution_count": 4,
   "metadata": {
    "id": "dv0Uj8pLkMFr"
   },
   "outputs": [
    {
     "data": {
      "text/html": [
       "<div>\n",
       "<style scoped>\n",
       "    .dataframe tbody tr th:only-of-type {\n",
       "        vertical-align: middle;\n",
       "    }\n",
       "\n",
       "    .dataframe tbody tr th {\n",
       "        vertical-align: top;\n",
       "    }\n",
       "\n",
       "    .dataframe thead th {\n",
       "        text-align: right;\n",
       "    }\n",
       "</style>\n",
       "<table border=\"1\" class=\"dataframe\">\n",
       "  <thead>\n",
       "    <tr style=\"text-align: right;\">\n",
       "      <th></th>\n",
       "      <th>1000046113_190136.jpg</th>\n",
       "      <th>1000046113_190137.jpg</th>\n",
       "      <th>1000046113_190138.jpg</th>\n",
       "      <th>1000046113_190139.jpg</th>\n",
       "      <th>1000046113_190140.jpg</th>\n",
       "    </tr>\n",
       "  </thead>\n",
       "  <tbody>\n",
       "    <tr>\n",
       "      <th>1000046113_190136.jpg</th>\n",
       "      <td>0.000000</td>\n",
       "      <td>0.043208</td>\n",
       "      <td>0.059137</td>\n",
       "      <td>0.077802</td>\n",
       "      <td>0.084179</td>\n",
       "    </tr>\n",
       "    <tr>\n",
       "      <th>1000046113_190137.jpg</th>\n",
       "      <td>0.043208</td>\n",
       "      <td>0.000000</td>\n",
       "      <td>0.015239</td>\n",
       "      <td>0.032346</td>\n",
       "      <td>0.046843</td>\n",
       "    </tr>\n",
       "    <tr>\n",
       "      <th>1000046113_190138.jpg</th>\n",
       "      <td>0.059137</td>\n",
       "      <td>0.015239</td>\n",
       "      <td>0.000000</td>\n",
       "      <td>0.011081</td>\n",
       "      <td>0.033390</td>\n",
       "    </tr>\n",
       "    <tr>\n",
       "      <th>1000046113_190139.jpg</th>\n",
       "      <td>0.077802</td>\n",
       "      <td>0.032346</td>\n",
       "      <td>0.011081</td>\n",
       "      <td>-0.000000</td>\n",
       "      <td>0.017354</td>\n",
       "    </tr>\n",
       "    <tr>\n",
       "      <th>1000046113_190140.jpg</th>\n",
       "      <td>0.084179</td>\n",
       "      <td>0.046843</td>\n",
       "      <td>0.033390</td>\n",
       "      <td>0.017354</td>\n",
       "      <td>-0.000000</td>\n",
       "    </tr>\n",
       "    <tr>\n",
       "      <th>...</th>\n",
       "      <td>...</td>\n",
       "      <td>...</td>\n",
       "      <td>...</td>\n",
       "      <td>...</td>\n",
       "      <td>...</td>\n",
       "    </tr>\n",
       "    <tr>\n",
       "      <th>9876_10089.jpg</th>\n",
       "      <td>0.898189</td>\n",
       "      <td>0.889843</td>\n",
       "      <td>0.867038</td>\n",
       "      <td>0.847671</td>\n",
       "      <td>0.842859</td>\n",
       "    </tr>\n",
       "    <tr>\n",
       "      <th>9876_10090.jpg</th>\n",
       "      <td>0.884373</td>\n",
       "      <td>0.877761</td>\n",
       "      <td>0.853807</td>\n",
       "      <td>0.831718</td>\n",
       "      <td>0.824670</td>\n",
       "    </tr>\n",
       "    <tr>\n",
       "      <th>9876_10091.jpg</th>\n",
       "      <td>0.865650</td>\n",
       "      <td>0.857599</td>\n",
       "      <td>0.833253</td>\n",
       "      <td>0.810912</td>\n",
       "      <td>0.804445</td>\n",
       "    </tr>\n",
       "    <tr>\n",
       "      <th>9876_10092.jpg</th>\n",
       "      <td>0.887948</td>\n",
       "      <td>0.880207</td>\n",
       "      <td>0.856261</td>\n",
       "      <td>0.833607</td>\n",
       "      <td>0.825441</td>\n",
       "    </tr>\n",
       "    <tr>\n",
       "      <th>9876_10093.jpg</th>\n",
       "      <td>0.897942</td>\n",
       "      <td>0.884756</td>\n",
       "      <td>0.857931</td>\n",
       "      <td>0.832239</td>\n",
       "      <td>0.825650</td>\n",
       "    </tr>\n",
       "  </tbody>\n",
       "</table>\n",
       "<p>465213 rows × 5 columns</p>\n",
       "</div>"
      ],
      "text/plain": [
       "                       1000046113_190136.jpg  1000046113_190137.jpg  \\\n",
       "1000046113_190136.jpg               0.000000               0.043208   \n",
       "1000046113_190137.jpg               0.043208               0.000000   \n",
       "1000046113_190138.jpg               0.059137               0.015239   \n",
       "1000046113_190139.jpg               0.077802               0.032346   \n",
       "1000046113_190140.jpg               0.084179               0.046843   \n",
       "...                                      ...                    ...   \n",
       "9876_10089.jpg                      0.898189               0.889843   \n",
       "9876_10090.jpg                      0.884373               0.877761   \n",
       "9876_10091.jpg                      0.865650               0.857599   \n",
       "9876_10092.jpg                      0.887948               0.880207   \n",
       "9876_10093.jpg                      0.897942               0.884756   \n",
       "\n",
       "                       1000046113_190138.jpg  1000046113_190139.jpg  \\\n",
       "1000046113_190136.jpg               0.059137               0.077802   \n",
       "1000046113_190137.jpg               0.015239               0.032346   \n",
       "1000046113_190138.jpg               0.000000               0.011081   \n",
       "1000046113_190139.jpg               0.011081              -0.000000   \n",
       "1000046113_190140.jpg               0.033390               0.017354   \n",
       "...                                      ...                    ...   \n",
       "9876_10089.jpg                      0.867038               0.847671   \n",
       "9876_10090.jpg                      0.853807               0.831718   \n",
       "9876_10091.jpg                      0.833253               0.810912   \n",
       "9876_10092.jpg                      0.856261               0.833607   \n",
       "9876_10093.jpg                      0.857931               0.832239   \n",
       "\n",
       "                       1000046113_190140.jpg  \n",
       "1000046113_190136.jpg               0.084179  \n",
       "1000046113_190137.jpg               0.046843  \n",
       "1000046113_190138.jpg               0.033390  \n",
       "1000046113_190139.jpg               0.017354  \n",
       "1000046113_190140.jpg              -0.000000  \n",
       "...                                      ...  \n",
       "9876_10089.jpg                      0.842859  \n",
       "9876_10090.jpg                      0.824670  \n",
       "9876_10091.jpg                      0.804445  \n",
       "9876_10092.jpg                      0.825441  \n",
       "9876_10093.jpg                      0.825650  \n",
       "\n",
       "[465213 rows x 5 columns]"
      ]
     },
     "execution_count": 4,
     "metadata": {},
     "output_type": "execute_result"
    }
   ],
   "source": [
    "df_sim"
   ]
  },
  {
   "cell_type": "markdown",
   "metadata": {},
   "source": [
    "## Check similarity values"
   ]
  },
  {
   "cell_type": "code",
   "execution_count": 62,
   "metadata": {},
   "outputs": [],
   "source": [
    "similarity_data = []\n",
    "threshold = .25\n",
    "\n",
    "tp, tn, fp, fn = 0, 0, 0, 0\n",
    "\n",
    "for column, data_column in df_sim.items():\n",
    "    idx_1 = column.split('.')[0].split('_')[0]\n",
    "    tmp_dict = {column: {'same': {'min': None, 'max': None}, 'different': {'min': None, 'max': None}}}\n",
    "    for row, value in data_column.items():\n",
    "        idx_2 = row.split('.')[0].split('_')[0]\n",
    "        if idx_1 == idx_2:\n",
    "            # same person\n",
    "            if value < threshold:\n",
    "                tp += 1\n",
    "            else:\n",
    "                fn += 1\n",
    "            current_min = tmp_dict[column]['same']['min']\n",
    "            current_max = tmp_dict[column]['same']['max']\n",
    "            if current_min == None or current_max == None:\n",
    "                tmp_dict[column]['same']['min'] = value\n",
    "                tmp_dict[column]['same']['max'] = value\n",
    "            else:\n",
    "                if value < tmp_dict[column]['same']['min']:\n",
    "                    tmp_dict[column]['same']['min'] = value\n",
    "                if value > tmp_dict[column]['same']['max']:\n",
    "                    tmp_dict[column]['same']['max'] = value\n",
    "        else:\n",
    "            # different person\n",
    "            if value < threshold:\n",
    "                fp += 1\n",
    "            else:\n",
    "                tn += 1\n",
    "            current_min = tmp_dict[column]['different']['min']\n",
    "            current_max = tmp_dict[column]['different']['max']\n",
    "            if current_min == None or current_max == None:\n",
    "                tmp_dict[column]['different']['min'] = value\n",
    "                tmp_dict[column]['different']['max'] = value\n",
    "            else:\n",
    "                if value < tmp_dict[column]['different']['min']:\n",
    "                    tmp_dict[column]['different']['min'] = value\n",
    "                if value > tmp_dict[column]['different']['max']:\n",
    "                    tmp_dict[column]['different']['max'] = value\n",
    "    similarity_data.append(tmp_dict)"
   ]
  },
  {
   "cell_type": "code",
   "execution_count": 63,
   "metadata": {},
   "outputs": [
    {
     "name": "stdout",
     "output_type": "stream",
     "text": [
      "TP: 2047, TN: 2323558, FP: 2, FN: 458\n"
     ]
    }
   ],
   "source": [
    "print('TP: {}, TN: {}, FP: {}, FN: {}'.format(tp, tn, fp, fn))"
   ]
  },
  {
   "cell_type": "code",
   "execution_count": 64,
   "metadata": {},
   "outputs": [
    {
     "name": "stdout",
     "output_type": "stream",
     "text": [
      "Precision: 0.9990239141044412 - Recall: 0.8171656686626747 - F1: 0.8989898989898991\n"
     ]
    }
   ],
   "source": [
    "precision = float(tp) / (tp + fp)\n",
    "recall = float(tp) / (tp + fn)\n",
    "f1 = float(2 * precision * recall) / (precision + recall)\n",
    "\n",
    "print('Precision: {} - Recall: {} - F1: {}'.format(precision, recall, f1))"
   ]
  },
  {
   "cell_type": "code",
   "execution_count": 43,
   "metadata": {},
   "outputs": [
    {
     "data": {
      "text/plain": [
       "[{'1000046113_190136.jpg': {'same': {'min': 0.0, 'max': 0.470012},\n",
       "   'different': {'min': 0.233462, 'max': 1.305814}}},\n",
       " {'1000046113_190137.jpg': {'same': {'min': 0.0, 'max': 0.500817},\n",
       "   'different': {'min': 0.3018, 'max': 1.360845}}},\n",
       " {'1000046113_190138.jpg': {'same': {'min': 0.0, 'max': 0.52361},\n",
       "   'different': {'min': 0.297147, 'max': 1.386028}}},\n",
       " {'1000046113_190139.jpg': {'same': {'min': -0.0, 'max': 0.558896},\n",
       "   'different': {'min': 0.27129699999999995, 'max': 1.373637}}},\n",
       " {'1000046113_190140.jpg': {'same': {'min': -0.0, 'max': 0.584184},\n",
       "   'different': {'min': 0.24246900000000002, 'max': 1.368933}}}]"
      ]
     },
     "execution_count": 43,
     "metadata": {},
     "output_type": "execute_result"
    }
   ],
   "source": [
    "similarity_data"
   ]
  },
  {
   "cell_type": "code",
   "execution_count": 36,
   "metadata": {},
   "outputs": [
    {
     "data": {
      "text/plain": [
       "{'888': {'same': {'min': None, 'max': None},\n",
       "  'different': {'min': None, 'max': None}}}"
      ]
     },
     "execution_count": 36,
     "metadata": {},
     "output_type": "execute_result"
    }
   ],
   "source": [
    "sd_1 = {idx_1: {'same': {'min': None, 'max': None}, 'different': {'min': None, 'max': None}}}\n",
    "sd_1"
   ]
  },
  {
   "cell_type": "code",
   "execution_count": 37,
   "metadata": {},
   "outputs": [],
   "source": [
    "reform = {(outerKey, innerKey): values for outerKey, innerDict in sd_1.items() for innerKey, values in innerDict.items()}\n"
   ]
  },
  {
   "cell_type": "code",
   "execution_count": 31,
   "metadata": {},
   "outputs": [
    {
     "data": {
      "text/html": [
       "<div>\n",
       "<style scoped>\n",
       "    .dataframe tbody tr th:only-of-type {\n",
       "        vertical-align: middle;\n",
       "    }\n",
       "\n",
       "    .dataframe tbody tr th {\n",
       "        vertical-align: top;\n",
       "    }\n",
       "\n",
       "    .dataframe thead th {\n",
       "        text-align: right;\n",
       "    }\n",
       "</style>\n",
       "<table border=\"1\" class=\"dataframe\">\n",
       "  <thead>\n",
       "    <tr style=\"text-align: right;\">\n",
       "      <th></th>\n",
       "      <th></th>\n",
       "      <th>min</th>\n",
       "      <th>max</th>\n",
       "    </tr>\n",
       "  </thead>\n",
       "  <tbody>\n",
       "    <tr>\n",
       "      <th rowspan=\"2\" valign=\"top\">1000046113</th>\n",
       "      <th>same</th>\n",
       "      <td>None</td>\n",
       "      <td>None</td>\n",
       "    </tr>\n",
       "    <tr>\n",
       "      <th>different</th>\n",
       "      <td>None</td>\n",
       "      <td>None</td>\n",
       "    </tr>\n",
       "  </tbody>\n",
       "</table>\n",
       "</div>"
      ],
      "text/plain": [
       "                       min   max\n",
       "1000046113 same       None  None\n",
       "           different  None  None"
      ]
     },
     "execution_count": 31,
     "metadata": {},
     "output_type": "execute_result"
    }
   ],
   "source": [
    "tmp = pd.DataFrame(reform).T\n",
    "tmp"
   ]
  },
  {
   "cell_type": "code",
   "execution_count": 38,
   "metadata": {},
   "outputs": [
    {
     "data": {
      "text/html": [
       "<div>\n",
       "<style scoped>\n",
       "    .dataframe tbody tr th:only-of-type {\n",
       "        vertical-align: middle;\n",
       "    }\n",
       "\n",
       "    .dataframe tbody tr th {\n",
       "        vertical-align: top;\n",
       "    }\n",
       "\n",
       "    .dataframe thead th {\n",
       "        text-align: right;\n",
       "    }\n",
       "</style>\n",
       "<table border=\"1\" class=\"dataframe\">\n",
       "  <thead>\n",
       "    <tr style=\"text-align: right;\">\n",
       "      <th></th>\n",
       "      <th></th>\n",
       "      <th>min</th>\n",
       "      <th>max</th>\n",
       "    </tr>\n",
       "  </thead>\n",
       "  <tbody>\n",
       "    <tr>\n",
       "      <th rowspan=\"2\" valign=\"top\">1000046113</th>\n",
       "      <th>same</th>\n",
       "      <td>None</td>\n",
       "      <td>None</td>\n",
       "    </tr>\n",
       "    <tr>\n",
       "      <th>different</th>\n",
       "      <td>None</td>\n",
       "      <td>None</td>\n",
       "    </tr>\n",
       "    <tr>\n",
       "      <th rowspan=\"2\" valign=\"top\">888</th>\n",
       "      <th>same</th>\n",
       "      <td>None</td>\n",
       "      <td>None</td>\n",
       "    </tr>\n",
       "    <tr>\n",
       "      <th>different</th>\n",
       "      <td>None</td>\n",
       "      <td>None</td>\n",
       "    </tr>\n",
       "  </tbody>\n",
       "</table>\n",
       "</div>"
      ],
      "text/plain": [
       "                       min   max\n",
       "1000046113 same       None  None\n",
       "           different  None  None\n",
       "888        same       None  None\n",
       "           different  None  None"
      ]
     },
     "execution_count": 38,
     "metadata": {},
     "output_type": "execute_result"
    }
   ],
   "source": [
    "pd.concat([tmp, pd.DataFrame(reform).T])"
   ]
  },
  {
   "cell_type": "code",
   "execution_count": null,
   "metadata": {},
   "outputs": [],
   "source": []
  }
 ],
 "metadata": {
  "accelerator": "GPU",
  "colab": {
   "collapsed_sections": [],
   "name": "Calculate similarity DB.ipynb",
   "provenance": [],
   "toc_visible": true
  },
  "kernelspec": {
   "display_name": "Python 3",
   "language": "python",
   "name": "python3"
  },
  "language_info": {
   "codemirror_mode": {
    "name": "ipython",
    "version": 3
   },
   "file_extension": ".py",
   "mimetype": "text/x-python",
   "name": "python",
   "nbconvert_exporter": "python",
   "pygments_lexer": "ipython3",
   "version": "3.6.9"
  }
 },
 "nbformat": 4,
 "nbformat_minor": 1
}
