{
 "cells": [
  {
   "cell_type": "code",
   "execution_count": 1,
   "metadata": {
    "id": "fxdzbDzx_7Xo"
   },
   "outputs": [],
   "source": [
    "import pandas as pd\n",
    "import numpy as np\n",
    "import os\n",
    "import time\n",
    "import random\n",
    "from IPython.display import clear_output"
   ]
  },
  {
   "cell_type": "code",
   "execution_count": 18,
   "metadata": {
    "colab": {
     "base_uri": "https://localhost:8080/"
    },
    "id": "7FXbnniu_mnK",
    "outputId": "a1cd10bc-7181-4f85-a960-ef1e7d38cef2"
   },
   "outputs": [
    {
     "name": "stdout",
     "output_type": "stream",
     "text": [
      "File exists: True\n"
     ]
    }
   ],
   "source": [
    "root = '/home/MIBS/facenet'\n",
    "src_csv = os.path.join(root, 'embedding', 'embedding_db.csv')\n",
    "target_folder = os.path.join(root, 'embedding', 'similarity')\n",
    "print('File exists: {}'.format(os.path.exists(src_csv)))"
   ]
  },
  {
   "cell_type": "markdown",
   "metadata": {
    "id": "4EFmgCNrJXNp"
   },
   "source": [
    "## Calculate similarity"
   ]
  },
  {
   "cell_type": "code",
   "execution_count": 3,
   "metadata": {
    "id": "iqn_CTaCSsKO"
   },
   "outputs": [],
   "source": [
    "df = pd.read_csv(src_csv, index_col=0)"
   ]
  },
  {
   "cell_type": "code",
   "execution_count": 4,
   "metadata": {
    "colab": {
     "base_uri": "https://localhost:8080/",
     "height": 253
    },
    "id": "UbCM9HjTIWb8",
    "outputId": "b0c103d0-7dc6-43b7-a646-57fe4df979fb"
   },
   "outputs": [
    {
     "data": {
      "text/html": [
       "<div>\n",
       "<style scoped>\n",
       "    .dataframe tbody tr th:only-of-type {\n",
       "        vertical-align: middle;\n",
       "    }\n",
       "\n",
       "    .dataframe tbody tr th {\n",
       "        vertical-align: top;\n",
       "    }\n",
       "\n",
       "    .dataframe thead th {\n",
       "        text-align: right;\n",
       "    }\n",
       "</style>\n",
       "<table border=\"1\" class=\"dataframe\">\n",
       "  <thead>\n",
       "    <tr style=\"text-align: right;\">\n",
       "      <th></th>\n",
       "      <th>0</th>\n",
       "      <th>1</th>\n",
       "      <th>2</th>\n",
       "      <th>3</th>\n",
       "      <th>4</th>\n",
       "      <th>5</th>\n",
       "      <th>6</th>\n",
       "      <th>7</th>\n",
       "      <th>8</th>\n",
       "      <th>9</th>\n",
       "      <th>...</th>\n",
       "      <th>118</th>\n",
       "      <th>119</th>\n",
       "      <th>120</th>\n",
       "      <th>121</th>\n",
       "      <th>122</th>\n",
       "      <th>123</th>\n",
       "      <th>124</th>\n",
       "      <th>125</th>\n",
       "      <th>126</th>\n",
       "      <th>127</th>\n",
       "    </tr>\n",
       "  </thead>\n",
       "  <tbody>\n",
       "    <tr>\n",
       "      <th>1014231988_231812.jpg</th>\n",
       "      <td>0.979932</td>\n",
       "      <td>1.165446</td>\n",
       "      <td>-0.473118</td>\n",
       "      <td>-1.260066</td>\n",
       "      <td>1.281455</td>\n",
       "      <td>1.235292</td>\n",
       "      <td>0.416252</td>\n",
       "      <td>-1.730684</td>\n",
       "      <td>0.225623</td>\n",
       "      <td>-0.415296</td>\n",
       "      <td>...</td>\n",
       "      <td>-0.662208</td>\n",
       "      <td>1.302117</td>\n",
       "      <td>0.132062</td>\n",
       "      <td>-0.226168</td>\n",
       "      <td>4.229750</td>\n",
       "      <td>0.078171</td>\n",
       "      <td>0.353426</td>\n",
       "      <td>0.178355</td>\n",
       "      <td>-0.249966</td>\n",
       "      <td>1.245588</td>\n",
       "    </tr>\n",
       "    <tr>\n",
       "      <th>1016001172_437323.jpg</th>\n",
       "      <td>0.317535</td>\n",
       "      <td>0.756705</td>\n",
       "      <td>0.448584</td>\n",
       "      <td>-0.463596</td>\n",
       "      <td>-0.664316</td>\n",
       "      <td>0.000986</td>\n",
       "      <td>0.072637</td>\n",
       "      <td>-1.550876</td>\n",
       "      <td>-0.694913</td>\n",
       "      <td>1.189381</td>\n",
       "      <td>...</td>\n",
       "      <td>-0.465162</td>\n",
       "      <td>1.695829</td>\n",
       "      <td>0.569423</td>\n",
       "      <td>-0.617782</td>\n",
       "      <td>0.611059</td>\n",
       "      <td>-1.409929</td>\n",
       "      <td>1.304691</td>\n",
       "      <td>2.182190</td>\n",
       "      <td>1.435756</td>\n",
       "      <td>0.112308</td>\n",
       "    </tr>\n",
       "    <tr>\n",
       "      <th>1233691482_173195.jpg</th>\n",
       "      <td>0.534990</td>\n",
       "      <td>1.190256</td>\n",
       "      <td>-0.132376</td>\n",
       "      <td>0.132695</td>\n",
       "      <td>-2.168387</td>\n",
       "      <td>-0.814362</td>\n",
       "      <td>1.084031</td>\n",
       "      <td>-2.642098</td>\n",
       "      <td>-1.689783</td>\n",
       "      <td>1.796565</td>\n",
       "      <td>...</td>\n",
       "      <td>0.001601</td>\n",
       "      <td>1.429232</td>\n",
       "      <td>1.298080</td>\n",
       "      <td>-0.644005</td>\n",
       "      <td>1.261172</td>\n",
       "      <td>-1.201658</td>\n",
       "      <td>-0.550647</td>\n",
       "      <td>2.059888</td>\n",
       "      <td>0.134634</td>\n",
       "      <td>-1.056122</td>\n",
       "    </tr>\n",
       "    <tr>\n",
       "      <th>80242521_228815.jpg</th>\n",
       "      <td>-0.805889</td>\n",
       "      <td>-0.008396</td>\n",
       "      <td>-1.574383</td>\n",
       "      <td>0.220078</td>\n",
       "      <td>1.359017</td>\n",
       "      <td>0.283905</td>\n",
       "      <td>0.375282</td>\n",
       "      <td>1.105475</td>\n",
       "      <td>0.246123</td>\n",
       "      <td>0.601768</td>\n",
       "      <td>...</td>\n",
       "      <td>-1.495565</td>\n",
       "      <td>-0.446212</td>\n",
       "      <td>1.305392</td>\n",
       "      <td>2.068125</td>\n",
       "      <td>-0.177600</td>\n",
       "      <td>-1.655504</td>\n",
       "      <td>0.347487</td>\n",
       "      <td>-0.944348</td>\n",
       "      <td>-1.652171</td>\n",
       "      <td>0.839394</td>\n",
       "    </tr>\n",
       "    <tr>\n",
       "      <th>1014182770_305619.jpg</th>\n",
       "      <td>-0.735095</td>\n",
       "      <td>0.664499</td>\n",
       "      <td>-2.234327</td>\n",
       "      <td>-0.682601</td>\n",
       "      <td>1.611458</td>\n",
       "      <td>-1.040077</td>\n",
       "      <td>0.273068</td>\n",
       "      <td>1.044876</td>\n",
       "      <td>-0.319821</td>\n",
       "      <td>1.355419</td>\n",
       "      <td>...</td>\n",
       "      <td>-0.570562</td>\n",
       "      <td>2.156091</td>\n",
       "      <td>0.493787</td>\n",
       "      <td>1.148258</td>\n",
       "      <td>1.111080</td>\n",
       "      <td>-0.781215</td>\n",
       "      <td>-1.784159</td>\n",
       "      <td>-1.043208</td>\n",
       "      <td>-0.063037</td>\n",
       "      <td>0.789947</td>\n",
       "    </tr>\n",
       "  </tbody>\n",
       "</table>\n",
       "<p>5 rows × 128 columns</p>\n",
       "</div>"
      ],
      "text/plain": [
       "                              0         1         2         3         4  \\\n",
       "1014231988_231812.jpg  0.979932  1.165446 -0.473118 -1.260066  1.281455   \n",
       "1016001172_437323.jpg  0.317535  0.756705  0.448584 -0.463596 -0.664316   \n",
       "1233691482_173195.jpg  0.534990  1.190256 -0.132376  0.132695 -2.168387   \n",
       "80242521_228815.jpg   -0.805889 -0.008396 -1.574383  0.220078  1.359017   \n",
       "1014182770_305619.jpg -0.735095  0.664499 -2.234327 -0.682601  1.611458   \n",
       "\n",
       "                              5         6         7         8         9  ...  \\\n",
       "1014231988_231812.jpg  1.235292  0.416252 -1.730684  0.225623 -0.415296  ...   \n",
       "1016001172_437323.jpg  0.000986  0.072637 -1.550876 -0.694913  1.189381  ...   \n",
       "1233691482_173195.jpg -0.814362  1.084031 -2.642098 -1.689783  1.796565  ...   \n",
       "80242521_228815.jpg    0.283905  0.375282  1.105475  0.246123  0.601768  ...   \n",
       "1014182770_305619.jpg -1.040077  0.273068  1.044876 -0.319821  1.355419  ...   \n",
       "\n",
       "                            118       119       120       121       122  \\\n",
       "1014231988_231812.jpg -0.662208  1.302117  0.132062 -0.226168  4.229750   \n",
       "1016001172_437323.jpg -0.465162  1.695829  0.569423 -0.617782  0.611059   \n",
       "1233691482_173195.jpg  0.001601  1.429232  1.298080 -0.644005  1.261172   \n",
       "80242521_228815.jpg   -1.495565 -0.446212  1.305392  2.068125 -0.177600   \n",
       "1014182770_305619.jpg -0.570562  2.156091  0.493787  1.148258  1.111080   \n",
       "\n",
       "                            123       124       125       126       127  \n",
       "1014231988_231812.jpg  0.078171  0.353426  0.178355 -0.249966  1.245588  \n",
       "1016001172_437323.jpg -1.409929  1.304691  2.182190  1.435756  0.112308  \n",
       "1233691482_173195.jpg -1.201658 -0.550647  2.059888  0.134634 -1.056122  \n",
       "80242521_228815.jpg   -1.655504  0.347487 -0.944348 -1.652171  0.839394  \n",
       "1014182770_305619.jpg -0.781215 -1.784159 -1.043208 -0.063037  0.789947  \n",
       "\n",
       "[5 rows x 128 columns]"
      ]
     },
     "execution_count": 4,
     "metadata": {},
     "output_type": "execute_result"
    }
   ],
   "source": [
    "df.head()"
   ]
  },
  {
   "cell_type": "code",
   "execution_count": 5,
   "metadata": {
    "colab": {
     "base_uri": "https://localhost:8080/",
     "height": 253
    },
    "id": "3wUHOKvi1BCr",
    "outputId": "8bcbd545-2181-4678-bcc5-c643178e1848"
   },
   "outputs": [
    {
     "data": {
      "text/html": [
       "<div>\n",
       "<style scoped>\n",
       "    .dataframe tbody tr th:only-of-type {\n",
       "        vertical-align: middle;\n",
       "    }\n",
       "\n",
       "    .dataframe tbody tr th {\n",
       "        vertical-align: top;\n",
       "    }\n",
       "\n",
       "    .dataframe thead th {\n",
       "        text-align: right;\n",
       "    }\n",
       "</style>\n",
       "<table border=\"1\" class=\"dataframe\">\n",
       "  <thead>\n",
       "    <tr style=\"text-align: right;\">\n",
       "      <th></th>\n",
       "      <th>0</th>\n",
       "      <th>1</th>\n",
       "      <th>2</th>\n",
       "      <th>3</th>\n",
       "      <th>4</th>\n",
       "      <th>5</th>\n",
       "      <th>6</th>\n",
       "      <th>7</th>\n",
       "      <th>8</th>\n",
       "      <th>9</th>\n",
       "      <th>...</th>\n",
       "      <th>118</th>\n",
       "      <th>119</th>\n",
       "      <th>120</th>\n",
       "      <th>121</th>\n",
       "      <th>122</th>\n",
       "      <th>123</th>\n",
       "      <th>124</th>\n",
       "      <th>125</th>\n",
       "      <th>126</th>\n",
       "      <th>127</th>\n",
       "    </tr>\n",
       "  </thead>\n",
       "  <tbody>\n",
       "    <tr>\n",
       "      <th>1000046113_190136.jpg</th>\n",
       "      <td>1.392769</td>\n",
       "      <td>0.879834</td>\n",
       "      <td>-0.763906</td>\n",
       "      <td>-0.508705</td>\n",
       "      <td>-1.033225</td>\n",
       "      <td>0.290156</td>\n",
       "      <td>1.886441</td>\n",
       "      <td>-1.048308</td>\n",
       "      <td>-1.392442</td>\n",
       "      <td>1.479466</td>\n",
       "      <td>...</td>\n",
       "      <td>0.597451</td>\n",
       "      <td>0.190999</td>\n",
       "      <td>1.907559</td>\n",
       "      <td>0.922785</td>\n",
       "      <td>1.444845</td>\n",
       "      <td>-1.740782</td>\n",
       "      <td>-1.088284</td>\n",
       "      <td>1.870509</td>\n",
       "      <td>0.991341</td>\n",
       "      <td>-1.333938</td>\n",
       "    </tr>\n",
       "    <tr>\n",
       "      <th>1000046113_190137.jpg</th>\n",
       "      <td>1.826192</td>\n",
       "      <td>0.653667</td>\n",
       "      <td>-0.478559</td>\n",
       "      <td>-0.217734</td>\n",
       "      <td>-0.800203</td>\n",
       "      <td>0.862730</td>\n",
       "      <td>1.872200</td>\n",
       "      <td>-0.809115</td>\n",
       "      <td>-1.083400</td>\n",
       "      <td>1.541001</td>\n",
       "      <td>...</td>\n",
       "      <td>1.122302</td>\n",
       "      <td>0.055444</td>\n",
       "      <td>1.351870</td>\n",
       "      <td>0.574312</td>\n",
       "      <td>1.364401</td>\n",
       "      <td>-1.884376</td>\n",
       "      <td>-1.386176</td>\n",
       "      <td>1.778188</td>\n",
       "      <td>1.425368</td>\n",
       "      <td>-0.762503</td>\n",
       "    </tr>\n",
       "    <tr>\n",
       "      <th>1000046113_190138.jpg</th>\n",
       "      <td>1.768410</td>\n",
       "      <td>0.490102</td>\n",
       "      <td>-0.342407</td>\n",
       "      <td>-0.312462</td>\n",
       "      <td>-0.460354</td>\n",
       "      <td>0.890619</td>\n",
       "      <td>1.795373</td>\n",
       "      <td>-0.549559</td>\n",
       "      <td>-1.011468</td>\n",
       "      <td>1.288292</td>\n",
       "      <td>...</td>\n",
       "      <td>0.852353</td>\n",
       "      <td>-0.104129</td>\n",
       "      <td>1.345418</td>\n",
       "      <td>0.458302</td>\n",
       "      <td>1.500188</td>\n",
       "      <td>-1.843293</td>\n",
       "      <td>-1.590533</td>\n",
       "      <td>1.587266</td>\n",
       "      <td>1.413511</td>\n",
       "      <td>-0.662049</td>\n",
       "    </tr>\n",
       "    <tr>\n",
       "      <th>1000046113_190139.jpg</th>\n",
       "      <td>1.914628</td>\n",
       "      <td>0.405558</td>\n",
       "      <td>-0.441098</td>\n",
       "      <td>-0.523989</td>\n",
       "      <td>-0.455395</td>\n",
       "      <td>0.995524</td>\n",
       "      <td>1.436189</td>\n",
       "      <td>-0.323269</td>\n",
       "      <td>-0.878922</td>\n",
       "      <td>1.308451</td>\n",
       "      <td>...</td>\n",
       "      <td>0.844567</td>\n",
       "      <td>0.081813</td>\n",
       "      <td>1.408591</td>\n",
       "      <td>0.603813</td>\n",
       "      <td>1.322429</td>\n",
       "      <td>-1.895420</td>\n",
       "      <td>-1.571432</td>\n",
       "      <td>1.474548</td>\n",
       "      <td>1.458241</td>\n",
       "      <td>-0.842150</td>\n",
       "    </tr>\n",
       "    <tr>\n",
       "      <th>1000046113_190140.jpg</th>\n",
       "      <td>1.864757</td>\n",
       "      <td>0.310825</td>\n",
       "      <td>-0.658235</td>\n",
       "      <td>-0.542811</td>\n",
       "      <td>-0.540598</td>\n",
       "      <td>0.635829</td>\n",
       "      <td>1.287658</td>\n",
       "      <td>-0.422320</td>\n",
       "      <td>-1.408446</td>\n",
       "      <td>1.763298</td>\n",
       "      <td>...</td>\n",
       "      <td>0.601927</td>\n",
       "      <td>0.405540</td>\n",
       "      <td>1.381792</td>\n",
       "      <td>0.847335</td>\n",
       "      <td>1.203180</td>\n",
       "      <td>-2.053343</td>\n",
       "      <td>-1.515368</td>\n",
       "      <td>1.766902</td>\n",
       "      <td>1.447661</td>\n",
       "      <td>-0.713273</td>\n",
       "    </tr>\n",
       "  </tbody>\n",
       "</table>\n",
       "<p>5 rows × 128 columns</p>\n",
       "</div>"
      ],
      "text/plain": [
       "                              0         1         2         3         4  \\\n",
       "1000046113_190136.jpg  1.392769  0.879834 -0.763906 -0.508705 -1.033225   \n",
       "1000046113_190137.jpg  1.826192  0.653667 -0.478559 -0.217734 -0.800203   \n",
       "1000046113_190138.jpg  1.768410  0.490102 -0.342407 -0.312462 -0.460354   \n",
       "1000046113_190139.jpg  1.914628  0.405558 -0.441098 -0.523989 -0.455395   \n",
       "1000046113_190140.jpg  1.864757  0.310825 -0.658235 -0.542811 -0.540598   \n",
       "\n",
       "                              5         6         7         8         9  ...  \\\n",
       "1000046113_190136.jpg  0.290156  1.886441 -1.048308 -1.392442  1.479466  ...   \n",
       "1000046113_190137.jpg  0.862730  1.872200 -0.809115 -1.083400  1.541001  ...   \n",
       "1000046113_190138.jpg  0.890619  1.795373 -0.549559 -1.011468  1.288292  ...   \n",
       "1000046113_190139.jpg  0.995524  1.436189 -0.323269 -0.878922  1.308451  ...   \n",
       "1000046113_190140.jpg  0.635829  1.287658 -0.422320 -1.408446  1.763298  ...   \n",
       "\n",
       "                            118       119       120       121       122  \\\n",
       "1000046113_190136.jpg  0.597451  0.190999  1.907559  0.922785  1.444845   \n",
       "1000046113_190137.jpg  1.122302  0.055444  1.351870  0.574312  1.364401   \n",
       "1000046113_190138.jpg  0.852353 -0.104129  1.345418  0.458302  1.500188   \n",
       "1000046113_190139.jpg  0.844567  0.081813  1.408591  0.603813  1.322429   \n",
       "1000046113_190140.jpg  0.601927  0.405540  1.381792  0.847335  1.203180   \n",
       "\n",
       "                            123       124       125       126       127  \n",
       "1000046113_190136.jpg -1.740782 -1.088284  1.870509  0.991341 -1.333938  \n",
       "1000046113_190137.jpg -1.884376 -1.386176  1.778188  1.425368 -0.762503  \n",
       "1000046113_190138.jpg -1.843293 -1.590533  1.587266  1.413511 -0.662049  \n",
       "1000046113_190139.jpg -1.895420 -1.571432  1.474548  1.458241 -0.842150  \n",
       "1000046113_190140.jpg -2.053343 -1.515368  1.766902  1.447661 -0.713273  \n",
       "\n",
       "[5 rows x 128 columns]"
      ]
     },
     "execution_count": 5,
     "metadata": {},
     "output_type": "execute_result"
    }
   ],
   "source": [
    "df.sort_index(inplace=True)\n",
    "df.head()"
   ]
  },
  {
   "cell_type": "code",
   "execution_count": 6,
   "metadata": {},
   "outputs": [],
   "source": [
    "users = {}\n",
    "for user_img in list(df.index):\n",
    "    user = user_img.split('.')[0].split('_')[0]\n",
    "    users.setdefault(user, []).append(user_img)"
   ]
  },
  {
   "cell_type": "code",
   "execution_count": 7,
   "metadata": {},
   "outputs": [
    {
     "data": {
      "text/plain": [
       "892"
      ]
     },
     "execution_count": 7,
     "metadata": {},
     "output_type": "execute_result"
    }
   ],
   "source": [
    "len(users.keys())"
   ]
  },
  {
   "cell_type": "code",
   "execution_count": 8,
   "metadata": {},
   "outputs": [],
   "source": [
    "selected_users = []\n",
    "random_sample = 10\n",
    "for idx, user_id in enumerate(users.keys()):\n",
    "    if len(users[user_id]) >= random_sample:\n",
    "        selected_users.extend(random.sample(users[user_id], random_sample))"
   ]
  },
  {
   "cell_type": "code",
   "execution_count": 9,
   "metadata": {},
   "outputs": [
    {
     "data": {
      "text/plain": [
       "8860"
      ]
     },
     "execution_count": 9,
     "metadata": {},
     "output_type": "execute_result"
    }
   ],
   "source": [
    "len(selected_users)"
   ]
  },
  {
   "cell_type": "code",
   "execution_count": 10,
   "metadata": {},
   "outputs": [
    {
     "name": "stdout",
     "output_type": "stream",
     "text": [
      "1000046113_190517.jpg (128,)\n"
     ]
    }
   ],
   "source": [
    "for selected in selected_users:\n",
    "    vector = np.array(df.loc[selected])\n",
    "    print(selected, vector.shape)\n",
    "    break"
   ]
  },
  {
   "cell_type": "markdown",
   "metadata": {},
   "source": [
    "## Calculate similarity between samples"
   ]
  },
  {
   "cell_type": "code",
   "execution_count": 11,
   "metadata": {
    "id": "K-N3qeDhKQX9"
   },
   "outputs": [],
   "source": [
    "def findCosineSimilarity(source_representation, test_representation):\n",
    "  a = np.matmul(np.transpose(source_representation), test_representation)\n",
    "  b = np.sum(np.multiply(source_representation, source_representation))\n",
    "  c = np.sum(np.multiply(test_representation, test_representation))\n",
    "  return 1 - (a / (np.sqrt(b) * np.sqrt(c)))"
   ]
  },
  {
   "cell_type": "code",
   "execution_count": null,
   "metadata": {
    "scrolled": true
   },
   "outputs": [
    {
     "name": "stdout",
     "output_type": "stream",
     "text": [
      "Processing 101/8860: 1000722014_448165.jpg\n",
      "Required time 1.822822093963623s\n",
      "Processing 102/8860: 1000722014_448457.jpg\n",
      "Required time 1.9205822944641113s\n",
      "Processing 103/8860: 1000722014_448280.jpg\n",
      "Required time 1.965406894683838s\n",
      "Processing 104/8860: 1000722014_448551.jpg\n",
      "Required time 2.5086240768432617s\n",
      "Processing 105/8860: 1000722014_448295.jpg\n",
      "Required time 2.7963688373565674s\n",
      "Processing 106/8860: 1000722014_448206.jpg\n",
      "Required time 2.7865283489227295s\n",
      "Processing 107/8860: 1000722014_448194.jpg\n",
      "Required time 2.880100727081299s\n",
      "Processing 108/8860: 1000722014_448537.jpg\n",
      "Required time 2.5202362537384033s\n",
      "Processing 109/8860: 1000722014_448287.jpg\n",
      "Required time 1.8013970851898193s\n",
      "Processing 110/8860: 1000722014_448303.jpg\n",
      "Required time 1.8369369506835938s\n",
      "Processing 111/8860: 1000797205_253953.jpg\n",
      "Required time 1.993222951889038s\n",
      "Processing 112/8860: 1000797205_253991.jpg\n",
      "Required time 2.148491382598877s\n",
      "Processing 113/8860: 1000797205_254253.jpg\n",
      "Required time 2.8331854343414307s\n",
      "Processing 114/8860: 1000797205_254120.jpg\n",
      "Required time 2.863353729248047s\n",
      "Processing 115/8860: 1000797205_253874.jpg\n",
      "Required time 2.4932408332824707s\n",
      "Processing 116/8860: 1000797205_254127.jpg\n",
      "Required time 1.8029088973999023s\n",
      "Processing 117/8860: 1000797205_254175.jpg\n",
      "Required time 1.7929191589355469s\n",
      "Processing 118/8860: 1000797205_254125.jpg\n",
      "Required time 1.9404082298278809s\n",
      "Processing 119/8860: 1000797205_253908.jpg\n",
      "Required time 1.9156088829040527s\n",
      "Processing 120/8860: 1000797205_254239.jpg\n",
      "Required time 2.7828404903411865s\n",
      "Processing 121/8860: 1000969782_285977.jpg\n",
      "Required time 2.797053337097168s\n",
      "Processing 122/8860: 1000969782_285965.jpg\n",
      "Required time 2.8576035499572754s\n",
      "Processing 123/8860: 1000969782_286070.jpg\n",
      "Required time 2.782114267349243s\n",
      "Processing 124/8860: 1000969782_285980.jpg\n",
      "Required time 2.069758415222168s\n",
      "Processing 125/8860: 1000969782_286229.jpg\n",
      "Required time 1.7979612350463867s\n",
      "Processing 126/8860: 1000969782_285865.jpg\n",
      "Required time 1.794206142425537s\n",
      "Processing 127/8860: 1000969782_286113.jpg\n"
     ]
    }
   ],
   "source": [
    "similarity_dict = {}\n",
    "\n",
    "for idx, selected_1 in enumerate(selected_users):\n",
    "    print('Processing {}/{}: {}'.format(idx + 1, len(selected_users), selected_1))\n",
    "    vector_1 = np.array(df.loc[selected_1])\n",
    "    user_1 = selected_1.split('.')[0].split('_')[0]\n",
    "    sub_dict = {}\n",
    "    start_ = time.time()\n",
    "    for selected_2 in selected_users:\n",
    "        vector_2 = np.array(df.loc[selected_2])\n",
    "        user_2 = selected_2.split('.')[0].split('_')[0]\n",
    "        score = round(findCosineSimilarity(vector_1, vector_2), 6)\n",
    "        sub_dict[selected_2] = score\n",
    "    end_ = time.time()\n",
    "    similarity_dict[selected_1] = sub_dict\n",
    "    print('Required time {}s'.format(end_ - start_))\n",
    "    if (idx + 1) % 100 == 0:\n",
    "        clear_output(wait=True)"
   ]
  },
  {
   "cell_type": "code",
   "execution_count": null,
   "metadata": {},
   "outputs": [],
   "source": [
    "df_similarity = pd.DataFrame.from_dict(similarity_dict)\n",
    "df_similarity.head()"
   ]
  },
  {
   "cell_type": "code",
   "execution_count": null,
   "metadata": {},
   "outputs": [],
   "source": [
    "df_similarity"
   ]
  },
  {
   "cell_type": "code",
   "execution_count": null,
   "metadata": {},
   "outputs": [],
   "source": [
    "df_similarity.to_csv(os.path.join(target_folder, 'similarity_sample.csv'))"
   ]
  },
  {
   "cell_type": "code",
   "execution_count": null,
   "metadata": {},
   "outputs": [],
   "source": []
  }
 ],
 "metadata": {
  "accelerator": "GPU",
  "colab": {
   "collapsed_sections": [],
   "name": "Calculate similarity DB.ipynb",
   "provenance": [],
   "toc_visible": true
  },
  "kernelspec": {
   "display_name": "Python 3",
   "language": "python",
   "name": "python3"
  },
  "language_info": {
   "codemirror_mode": {
    "name": "ipython",
    "version": 3
   },
   "file_extension": ".py",
   "mimetype": "text/x-python",
   "name": "python",
   "nbconvert_exporter": "python",
   "pygments_lexer": "ipython3",
   "version": "3.6.9"
  }
 },
 "nbformat": 4,
 "nbformat_minor": 1
}
